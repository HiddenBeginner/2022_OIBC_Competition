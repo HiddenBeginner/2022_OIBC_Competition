{
 "cells": [
  {
   "cell_type": "code",
   "execution_count": 1,
   "metadata": {},
   "outputs": [],
   "source": [
    "dir_data = '../data'\n",
    "dir_ckpt = '../ckpt'\n",
    "\n",
    "config = {\n",
    "    'seed': 0,\n",
    "    'k': 0.5,\n",
    "    'epochs': 500,\n",
    "    'hidden_dim': 10,\n",
    "    'last_data': '2022-11-15',\n",
    "    \n",
    "    'ids': range(0, 21),\n",
    "    \n",
    "    'features': ['temperature', 'humidity', 'dew_point', 'wind_dir', 'wind_spd',\n",
    "                 'uv_idx', 'visibility', 'ceiling', 'cloudiness', 'precip_prob',\n",
    "                 'precip_1h', 'forecast', 'capacity', 'hour', 'year', 'month', 'day'],\n",
    "    \n",
    "    'optimizer': {\n",
    "        'lr': 0.0,\n",
    "        'weight_decay': 0.01\n",
    "    },\n",
    "\n",
    "    'scheduler': {\n",
    "        'T_0': 500,\n",
    "        'T_mult': 1,\n",
    "        'eta_max': 0.001,\n",
    "        'T_up': 10,\n",
    "        'gamma': 0.5,\n",
    "    },\n",
    "\n",
    "    'loss': {\n",
    "        'loss': 'MeanStdLoss',\n",
    "        'k': 1.0,\n",
    "        'weights': (1.0, 0.0, 0.0),\n",
    "    },\n",
    "\n",
    "    'wandb': {\n",
    "        'project': 'solar_power_prediction',\n",
    "        'name': 'WaveNet'\n",
    "    }\n",
    "}\n"
   ]
  },
  {
   "cell_type": "code",
   "execution_count": 2,
   "metadata": {},
   "outputs": [],
   "source": [
    "import sys\n",
    "sys.path.append('../')\n",
    "\n",
    "from suncapturer.utils import seed_all\n",
    "from suncapturer.solver import Trainer\n",
    "from suncapturer.datasets import SolarDataset\n",
    "from suncapturer.networks import WaveNet, CausalWaveNet\n",
    "\n",
    "import os\n",
    "import numpy as np\n",
    "import pandas as pd\n",
    "from datetime import datetime\n",
    "\n",
    "import torch\n",
    "import torch.nn as nn\n",
    "import torch.nn.functional as F\n",
    "from torch.utils.data import DataLoader\n",
    "\n",
    "from sklearn.preprocessing import MinMaxScaler, minmax_scale\n"
   ]
  },
  {
   "cell_type": "code",
   "execution_count": 3,
   "metadata": {},
   "outputs": [],
   "source": [
    "seed_all(config['seed'])\n",
    "\n",
    "run_id = int(datetime.timestamp(datetime.now()))\n",
    "config['run_id'] = run_id\n",
    "config['dir_ckpt'] = os.path.join(dir_ckpt, str(run_id))"
   ]
  },
  {
   "cell_type": "code",
   "execution_count": 4,
   "metadata": {},
   "outputs": [],
   "source": [
    "df = pd.read_csv(os.path.join(dir_data, 'forecasts1_16.csv'))\n",
    "df = df.fillna(0)\n",
    "\n",
    "start = datetime.strptime('2020-09-30', '%Y-%m-%d')\n",
    "df['fcst_time'] = df['fcst_time'].str.split(' ').str[0]\n",
    "df['fcst_time'] = pd.to_datetime(df['fcst_time'])\n",
    "df['fcst_time'] = (df['fcst_time'] - start).dt.days\n",
    "\n",
    "valid_start = df['fcst_time'].max() - 14\n",
    "train_df = df[(df['id'].isin(config['ids'])) & (df['fcst_time'] < valid_start)].copy()\n",
    "valid_df = df[(df['id'].isin(config['ids'])) & (df['fcst_time'] >= valid_start)].copy()\n",
    "test_df = df[(df['fcst_time'] >= valid_start) & (df['id'] == 0)].copy()\n",
    "config['valid_start'] = valid_start\n",
    "\n",
    "scaling_factor = {}\n",
    "target_columns = df.columns.difference(['id', 'fcst_time', 'time', 'amount', 'relative_amount'])\n",
    "for col in target_columns:\n",
    "    scaler = MinMaxScaler()\n",
    "    scaler.fit(train_df[col].values.reshape(-1, 1))\n",
    "    scaling_factor[col] = (scaler.data_min_.item(), scaler.data_max_.item())\n",
    "    \n",
    "    train_df[col] = scaler.transform(train_df[col].values.reshape(-1, 1))\n",
    "    valid_df[col] = scaler.transform(valid_df[col].values.reshape(-1, 1))\n",
    "    test_df[col] = scaler.transform(test_df[col].values.reshape(-1, 1))\n",
    "\n",
    "os.makedirs(config['dir_ckpt'])\n",
    "\n",
    "with open(os.path.join(config['dir_ckpt'], 'scaling_factor.pkl'), 'wb') as f:\n",
    "    import pickle\n",
    "    pickle.dump(scaling_factor, f)"
   ]
  },
  {
   "cell_type": "code",
   "execution_count": 5,
   "metadata": {},
   "outputs": [],
   "source": [
    "train_dataset = SolarDataset(train_df, config['features'])\n",
    "valid_dataset = SolarDataset(valid_df, config['features'])\n",
    "test_dataset = SolarDataset(test_df, config['features'])\n",
    "\n",
    "train_loader = DataLoader(train_dataset, batch_size=128, shuffle=True)\n",
    "valid_loader = DataLoader(valid_dataset, batch_size=1, shuffle=False)\n",
    "test_loader = DataLoader(test_dataset, batch_size=1, shuffle=False)"
   ]
  },
  {
   "cell_type": "code",
   "execution_count": 6,
   "metadata": {
    "scrolled": false
   },
   "outputs": [
    {
     "name": "stderr",
     "output_type": "stream",
     "text": [
      "Failed to detect the name of this notebook, you can set it manually with the WANDB_NOTEBOOK_NAME environment variable to enable code saving.\n",
      "\u001b[34m\u001b[1mwandb\u001b[0m: Currently logged in as: \u001b[33mdongjinlee\u001b[0m. Use \u001b[1m`wandb login --relogin`\u001b[0m to force relogin\n"
     ]
    },
    {
     "data": {
      "text/html": [
       "Tracking run with wandb version 0.13.5"
      ],
      "text/plain": [
       "<IPython.core.display.HTML object>"
      ]
     },
     "metadata": {},
     "output_type": "display_data"
    },
    {
     "data": {
      "text/html": [
       "Run data is saved locally in <code>/home/dongjin/projects/solar/notebooks/wandb/run-20221116_142528-2a6lzzh0</code>"
      ],
      "text/plain": [
       "<IPython.core.display.HTML object>"
      ]
     },
     "metadata": {},
     "output_type": "display_data"
    },
    {
     "data": {
      "text/html": [
       "Syncing run <strong><a href=\"https://wandb.ai/dongjinlee/solar_power_prediction/runs/2a6lzzh0\" target=\"_blank\">YoungCle</a></strong> to <a href=\"https://wandb.ai/dongjinlee/solar_power_prediction\" target=\"_blank\">Weights & Biases</a> (<a href=\"https://wandb.me/run\" target=\"_blank\">docs</a>)<br/>"
      ],
      "text/plain": [
       "<IPython.core.display.HTML object>"
      ]
     },
     "metadata": {},
     "output_type": "display_data"
    },
    {
     "name": "stderr",
     "output_type": "stream",
     "text": [
      "/home/dongjin/anaconda3/envs/torch/lib/python3.8/site-packages/torch/nn/modules/conv.py:303: UserWarning: Using padding='same' with even kernel lengths and odd dilation may require a zero-padded copy of the input be created (Triggered internally at  ../aten/src/ATen/native/Convolution.cpp:883.)\n",
      "  return F.conv1d(input, weight, bias, self.stride,\n"
     ]
    },
    {
     "data": {
      "text/html": [
       "Waiting for W&B process to finish... <strong style=\"color:green\">(success).</strong>"
      ],
      "text/plain": [
       "<IPython.core.display.HTML object>"
      ]
     },
     "metadata": {},
     "output_type": "display_data"
    },
    {
     "data": {
      "text/html": [
       "<style>\n",
       "    table.wandb td:nth-child(1) { padding: 0 10px; text-align: left ; width: auto;} td:nth-child(2) {text-align: left ; width: 100%}\n",
       "    .wandb-row { display: flex; flex-direction: row; flex-wrap: wrap; justify-content: flex-start; width: 100% }\n",
       "    .wandb-col { display: flex; flex-direction: column; flex-basis: 100%; flex: 1; padding: 10px; }\n",
       "    </style>\n",
       "<div class=\"wandb-row\"><div class=\"wandb-col\"><h3>Run history:</h3><br/><table class=\"wandb\"><tr><td>Epochs</td><td>▁▁▁▂▂▂▂▂▂▃▃▃▃▃▄▄▄▄▄▄▅▅▅▅▅▅▆▆▆▆▆▇▇▇▇▇▇███</td></tr><tr><td>LR</td><td>▃███████▇▇▇▇▇▆▆▆▆▅▅▅▅▄▄▄▃▃▃▃▂▂▂▂▂▁▁▁▁▁▁▁</td></tr><tr><td>test_Loss</td><td>▆▆▅▇▁▆▇▃▂▆▄▃▃▆▅▄▃▄▃█▅▃▄▅▄▄▅▆▄▆▅▄▄▅▄▅▅▄▄▅</td></tr><tr><td>test_Metric1</td><td>▆▆▅▇▁▆▇▃▂▆▄▃▃▆▅▄▃▄▃█▅▃▄▅▄▄▅▆▄▆▅▄▄▅▄▅▅▄▄▅</td></tr><tr><td>test_Metric2</td><td>█▁▁▁▁▁▁▁▁▁▁▁▁▁▁▁▁▁▁▁▁▁▁▁▁▁▁▁▁▁▁▁▁▁▁▁▁▁▁▁</td></tr><tr><td>test_Metric3</td><td>▁▁▁▁▁▁▁▁▁▁▁▁▁▁▁▁▁▁▁▁▁▁▁▁▁▁▁▁▁▁▁▁▁▁▁▁▁▁▁▁</td></tr><tr><td>test_TotalMetric</td><td>▆▆▅▇▁▆▇▃▂▆▄▃▃▆▅▄▃▄▃█▅▃▄▅▄▄▅▆▄▆▅▄▄▅▄▅▅▄▄▅</td></tr><tr><td>train_Loss</td><td>█▃▂▂▃▂▂▂▂▂▂▁▂▁▂▁▂▁▁▂▁▂▁▁▁▁▁▁▁▁▁▁▁▁▁▁▁▁▁▁</td></tr><tr><td>train_Metric1</td><td>█▃▂▂▃▂▂▂▂▂▂▁▂▁▂▁▂▁▁▂▁▂▁▁▁▁▁▁▁▁▁▁▁▁▁▁▁▁▁▁</td></tr><tr><td>train_Metric2</td><td>█▁▁▁▁▁▁▁▁▁▁▁▁▁▁▁▁▁▁▁▁▁▁▁▁▁▁▁▁▁▁▁▁▁▁▁▁▁▁▁</td></tr><tr><td>train_Metric3</td><td>▅▇█▇██▇▇▇▇▇█▇███▇██▇▇█▇▇▇███▇█▇▇██████▁█</td></tr><tr><td>train_TotalMetric</td><td>█▃▂▂▃▂▂▂▂▂▂▁▂▁▂▁▂▁▁▁▁▂▁▁▁▁▁▁▁▁▁▁▁▁▁▁▁▁▁▁</td></tr><tr><td>valid_Loss</td><td>▇▆▂▄▁▄▇▃▄█▅▄▅▆▆▅▅▅▅█▅▄▅▅▅▄▅▅▅▆▅▄▅▅▅▅▅▅▅▅</td></tr><tr><td>valid_Metric1</td><td>▇▆▂▄▁▄▇▃▄█▅▄▅▆▆▅▅▅▅█▅▄▅▅▅▄▅▅▅▆▅▄▅▅▅▅▅▅▅▅</td></tr><tr><td>valid_Metric2</td><td>█▁▁▁▁▁▁▁▁▁▁▁▁▁▁▁▁▁▁▁▁▁▁▁▁▁▁▁▁▁▁▁▁▁▁▁▁▁▁▁</td></tr><tr><td>valid_Metric3</td><td>▁███████████████████████████████████████</td></tr><tr><td>valid_TotalMetric</td><td>█▆▂▄▁▄▇▃▄█▅▄▅▆▆▅▅▅▅█▅▄▅▅▅▄▅▅▅▆▅▄▅▅▅▅▅▅▅▅</td></tr></table><br/></div><div class=\"wandb-col\"><h3>Run summary:</h3><br/><table class=\"wandb\"><tr><td>Epochs</td><td>500</td></tr><tr><td>LR</td><td>0.0</td></tr><tr><td>test_Loss</td><td>1.07457</td></tr><tr><td>test_Metric1</td><td>1.07457</td></tr><tr><td>test_Metric2</td><td>0.0</td></tr><tr><td>test_Metric3</td><td>1.93918</td></tr><tr><td>test_TotalMetric</td><td>0.59102</td></tr><tr><td>train_Loss</td><td>0.96481</td></tr><tr><td>train_Metric1</td><td>0.96481</td></tr><tr><td>train_Metric2</td><td>0.0</td></tr><tr><td>train_Metric3</td><td>3.65876</td></tr><tr><td>train_TotalMetric</td><td>0.53065</td></tr><tr><td>valid_Loss</td><td>1.05269</td></tr><tr><td>valid_Metric1</td><td>1.05269</td></tr><tr><td>valid_Metric2</td><td>0.0</td></tr><tr><td>valid_Metric3</td><td>2.19179</td></tr><tr><td>valid_TotalMetric</td><td>0.57898</td></tr></table><br/></div></div>"
      ],
      "text/plain": [
       "<IPython.core.display.HTML object>"
      ]
     },
     "metadata": {},
     "output_type": "display_data"
    },
    {
     "data": {
      "text/html": [
       "Synced <strong style=\"color:#cdcd00\">YoungCle</strong>: <a href=\"https://wandb.ai/dongjinlee/solar_power_prediction/runs/2a6lzzh0\" target=\"_blank\">https://wandb.ai/dongjinlee/solar_power_prediction/runs/2a6lzzh0</a><br/>Synced 6 W&B file(s), 0 media file(s), 0 artifact file(s) and 0 other file(s)"
      ],
      "text/plain": [
       "<IPython.core.display.HTML object>"
      ]
     },
     "metadata": {},
     "output_type": "display_data"
    },
    {
     "data": {
      "text/html": [
       "Find logs at: <code>./wandb/run-20221116_142528-2a6lzzh0/logs</code>"
      ],
      "text/plain": [
       "<IPython.core.display.HTML object>"
      ]
     },
     "metadata": {},
     "output_type": "display_data"
    }
   ],
   "source": [
    "model = WaveNet(len(config['features']), config['hidden_dim'])\n",
    "trainer = Trainer(model, config)\n",
    "trainer.fit(train_loader, valid_loader, test_loader)"
   ]
  },
  {
   "cell_type": "code",
   "execution_count": null,
   "metadata": {},
   "outputs": [],
   "source": []
  }
 ],
 "metadata": {
  "kernelspec": {
   "display_name": "PyTorch-11.2",
   "language": "python",
   "name": "torch"
  },
  "language_info": {
   "codemirror_mode": {
    "name": "ipython",
    "version": 3
   },
   "file_extension": ".py",
   "mimetype": "text/x-python",
   "name": "python",
   "nbconvert_exporter": "python",
   "pygments_lexer": "ipython3",
   "version": "3.8.13"
  }
 },
 "nbformat": 4,
 "nbformat_minor": 4
}
