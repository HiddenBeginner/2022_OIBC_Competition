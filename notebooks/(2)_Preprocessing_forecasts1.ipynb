{
 "cells": [
  {
   "cell_type": "code",
   "execution_count": 1,
   "metadata": {},
   "outputs": [],
   "source": [
    "dir_data = '../data'"
   ]
  },
  {
   "cell_type": "code",
   "execution_count": 2,
   "metadata": {},
   "outputs": [],
   "source": [
    "import sys\n",
    "sys.path.append('../')\n",
    "\n",
    "from suncapturer.utils import standardize_time\n",
    "\n",
    "import os\n",
    "import time\n",
    "import numpy as np\n",
    "import pandas as pd\n",
    "import matplotlib.pyplot as plt\n",
    "import seaborn as sns\n",
    "from datetime import datetime\n"
   ]
  },
  {
   "cell_type": "code",
   "execution_count": 3,
   "metadata": {},
   "outputs": [],
   "source": [
    "gens = pd.read_csv(os.path.join(dir_data, 'gens.csv'))\n",
    "fcst = pd.read_csv(os.path.join(dir_data, 'forecasts1.csv'))\n",
    "sites = pd.read_csv(os.path.join(dir_data, 'sites.csv'))\n",
    "\n",
    "path_gens_collected = os.path.join(dir_data, 'gens_collected.csv')\n",
    "if os.path.exists(path_gens_collected):\n",
    "    gens_collected = pd.read_csv(path_gens_collected)\n",
    "    gens = pd.concat([gens, gens_collected], axis=0, ignore_index=True)\n",
    "    gens = gens.sort_values(['id', 'time']).reset_index(drop=True)\n",
    "    \n",
    "path_fcst_collected = os.path.join(dir_data, 'fcst_collected.csv')\n",
    "if os.path.exists(path_fcst_collected):\n",
    "    fcst_collected = pd.read_csv(path_fcst_collected)\n",
    "    fcst = pd.concat([fcst, fcst_collected], axis=0, ignore_index=True)\n",
    "\n",
    "# Preprocessing forecasts1.csv\n",
    "fcst['fcst_time'] = fcst['fcst_time'].apply(standardize_time)\n",
    "fcst['time'] = fcst['time'].apply(standardize_time)\n",
    "\n",
    "fcst['fcst_time'] = pd.to_datetime(fcst['fcst_time'])\n",
    "fcst['fcst_time'] = fcst['fcst_time'].dt.round('60min')\n",
    "fcst['time'] = pd.to_datetime(fcst['time'])\n",
    "fcst['forecast'] = ((fcst['time'] - fcst['fcst_time']).dt.total_seconds() / 60.0 / 60.0).astype('int')\n",
    "\n",
    "# Preprocessing gens.csv\n",
    "gens['time'] = gens['time'].apply(standardize_time)\n",
    "gens['time'] = pd.to_datetime(gens['time'])\n",
    "\n",
    "# Merging fcst and gens\n",
    "fcst['id'] = fcst['id'] - 1\n",
    "fcst = pd.merge(fcst, gens, on=['id', 'time'], how='inner')\n",
    "\n",
    "# Feature engineering\n",
    "# 1. Capacity\n",
    "gen2capacity = sites['capacity'].to_dict()\n",
    "fcst['capacity'] = fcst['id'].apply(lambda x: gen2capacity[x])\n",
    "\n",
    "# 2. Relative amount\n",
    "fcst['relative_amount'] = fcst['amount'] / fcst['capacity']\n",
    "\n",
    "# 3. Time-related features\n",
    "fcst['hour']  = fcst['time'].dt.hour\n",
    "fcst['year']  = fcst['time'].dt.year\n",
    "fcst['month'] = fcst['time'].dt.month\n",
    "fcst['day']   = fcst['time'].dt.day\n",
    "\n",
    "# 4. Drop-duplication\n",
    "fcst = fcst.drop_duplicates().reset_index(drop=True)"
   ]
  },
  {
   "cell_type": "code",
   "execution_count": 4,
   "metadata": {},
   "outputs": [],
   "source": [
    "fcst_16 = fcst[fcst['fcst_time'].dt.hour == 16].reset_index(drop=True)\n",
    "fcst_16[(fcst_16['forecast'] > 8) & (fcst_16['forecast'] < 33)].to_csv('../data/forecasts1_16.csv', index=False)"
   ]
  },
  {
   "cell_type": "code",
   "execution_count": 5,
   "metadata": {},
   "outputs": [],
   "source": [
    "# fcst_9 = fcst[fcst['fcst_time'].dt.hour == 9].reset_index(drop=True)\n",
    "# fcst_9[(fcst_9['forecast'] > 15) & (fcst_9['forecast'] < 40)].to_csv('../data/forecasts1_9.csv', index=False)"
   ]
  },
  {
   "cell_type": "code",
   "execution_count": null,
   "metadata": {},
   "outputs": [],
   "source": []
  }
 ],
 "metadata": {
  "kernelspec": {
   "display_name": "PyTorch-11.2",
   "language": "python",
   "name": "torch"
  },
  "language_info": {
   "codemirror_mode": {
    "name": "ipython",
    "version": 3
   },
   "file_extension": ".py",
   "mimetype": "text/x-python",
   "name": "python",
   "nbconvert_exporter": "python",
   "pygments_lexer": "ipython3",
   "version": "3.8.13"
  }
 },
 "nbformat": 4,
 "nbformat_minor": 4
}
