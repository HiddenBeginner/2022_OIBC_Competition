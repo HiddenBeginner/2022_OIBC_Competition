{
 "cells": [
  {
   "cell_type": "code",
   "execution_count": null,
   "metadata": {},
   "outputs": [],
   "source": [
    "dir_data = '../data'\n",
    "\n",
    "token = 'YOUR AUTHORIZED TOKEN'"
   ]
  },
  {
   "cell_type": "code",
   "execution_count": null,
   "metadata": {},
   "outputs": [],
   "source": [
    "import sys\n",
    "sys.path.append('../')\n",
    "\n",
    "from suncapturer.utils import Requestor\n",
    "\n",
    "import os\n",
    "import pandas as pd\n",
    "\n",
    "from datetime import datetime\n"
   ]
  },
  {
   "cell_type": "code",
   "execution_count": null,
   "metadata": {},
   "outputs": [],
   "source": [
    "requestor = Requestor(token)"
   ]
  },
  {
   "cell_type": "code",
   "execution_count": null,
   "metadata": {},
   "outputs": [],
   "source": [
    "path_gens = os.path.join(dir_data, 'gens_collected.csv')\n",
    "if not os.path.exists(path_gens):\n",
    "    gens_collected = pd.DataFrame()\n",
    "    start = '2022-10-24'\n",
    "else:\n",
    "    gens_collected = pd.read_csv(path_gens)\n",
    "    start = gens_collected['time'].max().split(' ')[0]"
   ]
  },
  {
   "cell_type": "code",
   "execution_count": null,
   "metadata": {},
   "outputs": [],
   "source": [
    "print(len(gens_collected))"
   ]
  },
  {
   "cell_type": "code",
   "execution_count": null,
   "metadata": {},
   "outputs": [],
   "source": [
    "start = datetime.strptime(start, '%Y-%m-%d').date()\n",
    "today = datetime.now().date()\n",
    "\n",
    "dates = pd.date_range(start, today, freq='1d')[:-1]\n",
    "for date in dates:\n",
    "    gens = requestor.get_pv_gens(str(date.date()))\n",
    "    gens.columns = ['id', 'time', 'amount']\n",
    "    \n",
    "    gens['time'] = pd.to_datetime(gens['time'])\n",
    "    gens['time'] = gens['time'].dt.tz_convert(tz='Asia/Seoul')\n",
    "    \n",
    "    gens = gens.sort_values(['id', 'time']).reset_index(drop=True)\n",
    "    \n",
    "    gens_collected = pd.concat([gens_collected, gens], axis=0, ignore_index=True)\n",
    "\n",
    "# gens_collected.to_csv(path_gens, index=False)"
   ]
  },
  {
   "cell_type": "code",
   "execution_count": null,
   "metadata": {},
   "outputs": [],
   "source": [
    "print(len(gens_collected))"
   ]
  },
  {
   "cell_type": "code",
   "execution_count": null,
   "metadata": {},
   "outputs": [],
   "source": [
    "path_fcst = os.path.join(dir_data, 'fcst_collected.csv')\n",
    "if not os.path.exists(path_fcst):\n",
    "    start = '2022-10-24'\n",
    "    fcst_collected = pd.DataFrame()\n",
    "else:\n",
    "    fcst_collected = pd.read_csv(path_fcst)\n",
    "    start = fcst_collected['fcst_time'].max()\n",
    "    start = datetime.fromisoformat(start).date()"
   ]
  },
  {
   "cell_type": "code",
   "execution_count": null,
   "metadata": {},
   "outputs": [],
   "source": [
    "len(fcst_collected)"
   ]
  },
  {
   "cell_type": "code",
   "execution_count": null,
   "metadata": {},
   "outputs": [],
   "source": [
    "today = datetime.now().date()\n",
    "\n",
    "dates = pd.date_range(start, today, freq='1d')[:-1]\n",
    "for date in dates:\n",
    "    for idx in range(1, 22):\n",
    "        fcst = requestor.get_forecasts(1, str(date.date()), 16)\n",
    "\n",
    "        fcst['fcst_time'] = pd.to_datetime(fcst['fcst_time'])\n",
    "        fcst['fcst_time'] = fcst['fcst_time'].dt.tz_convert(tz='Asia/Seoul')\n",
    "        \n",
    "        fcst['time'] = pd.to_datetime(fcst['time'])\n",
    "        fcst['time'] = fcst['time'].dt.tz_convert(tz='Asia/Seoul')\n",
    "        \n",
    "        columns = list(fcst.columns)\n",
    "        columns = ['id'] + columns\n",
    "        \n",
    "        fcst['id'] = idx\n",
    "        fcst = fcst[columns]\n",
    "        \n",
    "        fcst_collected = pd.concat([fcst_collected, fcst], axis=0, ignore_index=True)\n",
    "\n",
    "fcst_collected.to_csv(path_fcst, index=False)"
   ]
  },
  {
   "cell_type": "code",
   "execution_count": null,
   "metadata": {},
   "outputs": [],
   "source": [
    "len(fcst_collected)"
   ]
  },
  {
   "cell_type": "code",
   "execution_count": null,
   "metadata": {},
   "outputs": [],
   "source": []
  }
 ],
 "metadata": {
  "kernelspec": {
   "display_name": "PyTorch-11.2",
   "language": "python",
   "name": "torch"
  },
  "language_info": {
   "codemirror_mode": {
    "name": "ipython",
    "version": 3
   },
   "file_extension": ".py",
   "mimetype": "text/x-python",
   "name": "python",
   "nbconvert_exporter": "python",
   "pygments_lexer": "ipython3",
   "version": "3.8.13"
  }
 },
 "nbformat": 4,
 "nbformat_minor": 4
}
